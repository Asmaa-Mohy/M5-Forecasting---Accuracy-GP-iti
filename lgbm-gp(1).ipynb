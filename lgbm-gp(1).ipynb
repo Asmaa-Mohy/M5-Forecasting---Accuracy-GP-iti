{
 "cells": [
  {
   "cell_type": "code",
   "execution_count": 1,
   "metadata": {
    "_cell_guid": "b1076dfc-b9ad-4769-8c92-a6c4dae69d19",
    "_kg_hide-input": true,
    "_uuid": "8f2839f25d086af736a60e9eeb907d3b93b6e0e5",
    "execution": {
     "iopub.execute_input": "2022-08-16T23:32:40.740475Z",
     "iopub.status.busy": "2022-08-16T23:32:40.739736Z",
     "iopub.status.idle": "2022-08-16T23:32:42.746623Z",
     "shell.execute_reply": "2022-08-16T23:32:42.745826Z",
     "shell.execute_reply.started": "2022-08-16T22:43:22.625094Z"
    },
    "papermill": {
     "duration": 2.035019,
     "end_time": "2022-08-16T23:32:42.746771",
     "exception": false,
     "start_time": "2022-08-16T23:32:40.711752",
     "status": "completed"
    },
    "tags": []
   },
   "outputs": [],
   "source": [
    "import os\n",
    "import pandas as pd\n",
    "import numpy as np\n",
    "import plotly_express as px\n",
    "import plotly.graph_objects as go\n",
    "from plotly.subplots import make_subplots\n",
    "import matplotlib.pyplot as plt\n",
    "import seaborn as sns\n",
    "import gc\n",
    "import warnings\n",
    "warnings.filterwarnings('ignore')\n",
    "from lightgbm import LGBMRegressor\n",
    "import joblib"
   ]
  },
  {
   "cell_type": "markdown",
   "metadata": {
    "papermill": {
     "duration": 0.022983,
     "end_time": "2022-08-16T23:32:42.794572",
     "exception": false,
     "start_time": "2022-08-16T23:32:42.771589",
     "status": "completed"
    },
    "tags": []
   },
   "source": [
    "# <a id='data'>1. Fetch the data</a>"
   ]
  },
  {
   "cell_type": "code",
   "execution_count": 2,
   "metadata": {
    "_cell_guid": "79c7e3d0-c299-4dcb-8224-4455121ee9b0",
    "_kg_hide-input": false,
    "_uuid": "d629ff2d2480ee46fbb7e2d37f6b5fab8052498a",
    "execution": {
     "iopub.execute_input": "2022-08-16T23:32:42.849133Z",
     "iopub.status.busy": "2022-08-16T23:32:42.848443Z",
     "iopub.status.idle": "2022-08-16T23:32:53.646214Z",
     "shell.execute_reply": "2022-08-16T23:32:53.645589Z",
     "shell.execute_reply.started": "2022-08-16T22:43:24.756706Z"
    },
    "papermill": {
     "duration": 10.828282,
     "end_time": "2022-08-16T23:32:53.646349",
     "exception": false,
     "start_time": "2022-08-16T23:32:42.818067",
     "status": "completed"
    },
    "tags": []
   },
   "outputs": [],
   "source": [
    "sales = pd.read_csv('/kaggle/input/m5-forecasting-accuracy/sales_train_evaluation.csv')\n",
    "sales.name = 'sales'\n",
    "calendar = pd.read_csv('/kaggle/input/m5-forecasting-accuracy/calendar.csv')\n",
    "calendar.name = 'calendar'\n",
    "prices = pd.read_csv('/kaggle/input/m5-forecasting-accuracy/sell_prices.csv')\n",
    "prices.name = 'prices'"
   ]
  },
  {
   "cell_type": "markdown",
   "metadata": {
    "papermill": {
     "duration": 0.023285,
     "end_time": "2022-08-16T23:32:53.693328",
     "exception": false,
     "start_time": "2022-08-16T23:32:53.670043",
     "status": "completed"
    },
    "tags": []
   },
   "source": [
    "Since, the validation data is now available for the days 1914-1941, Adding zero sales for days: d_1942 - d_1969(Test)"
   ]
  },
  {
   "cell_type": "code",
   "execution_count": 3,
   "metadata": {
    "execution": {
     "iopub.execute_input": "2022-08-16T23:32:53.751314Z",
     "iopub.status.busy": "2022-08-16T23:32:53.750562Z",
     "iopub.status.idle": "2022-08-16T23:32:53.790023Z",
     "shell.execute_reply": "2022-08-16T23:32:53.789443Z",
     "shell.execute_reply.started": "2022-08-16T22:43:37.495509Z"
    },
    "papermill": {
     "duration": 0.073247,
     "end_time": "2022-08-16T23:32:53.790158",
     "exception": false,
     "start_time": "2022-08-16T23:32:53.716911",
     "status": "completed"
    },
    "tags": []
   },
   "outputs": [],
   "source": [
    "#Add zero sales for the remaining days 1942-1969\n",
    "for d in range(1942,1970):\n",
    "    col = 'd_' + str(d)\n",
    "    sales[col] = 0\n",
    "    sales[col] = sales[col].astype(np.int16)"
   ]
  },
  {
   "cell_type": "code",
   "execution_count": 4,
   "metadata": {
    "_kg_hide-input": true,
    "execution": {
     "iopub.execute_input": "2022-08-16T23:32:53.841485Z",
     "iopub.status.busy": "2022-08-16T23:32:53.840774Z",
     "iopub.status.idle": "2022-08-16T23:32:53.845527Z",
     "shell.execute_reply": "2022-08-16T23:32:53.844803Z",
     "shell.execute_reply.started": "2022-08-16T22:43:37.549287Z"
    },
    "papermill": {
     "duration": 0.032074,
     "end_time": "2022-08-16T23:32:53.845658",
     "exception": false,
     "start_time": "2022-08-16T23:32:53.813584",
     "status": "completed"
    },
    "tags": []
   },
   "outputs": [],
   "source": [
    "# sales_bd = np.round(sales.memory_usage().sum()/(1024*1024),1)\n",
    "# calendar_bd = np.round(calendar.memory_usage().sum()/(1024*1024),1)\n",
    "# prices_bd = np.round(prices.memory_usage().sum()/(1024*1024),1)"
   ]
  },
  {
   "cell_type": "code",
   "execution_count": 5,
   "metadata": {
    "execution": {
     "iopub.execute_input": "2022-08-16T23:32:53.914693Z",
     "iopub.status.busy": "2022-08-16T23:32:53.913638Z",
     "iopub.status.idle": "2022-08-16T23:35:38.118972Z",
     "shell.execute_reply": "2022-08-16T23:35:38.117662Z",
     "shell.execute_reply.started": "2022-08-16T22:43:37.558154Z"
    },
    "papermill": {
     "duration": 164.25024,
     "end_time": "2022-08-16T23:35:38.119329",
     "exception": false,
     "start_time": "2022-08-16T23:32:53.869089",
     "status": "completed"
    },
    "tags": []
   },
   "outputs": [],
   "source": [
    "\n",
    "#Downcast in order to save memory\n",
    "def downcast(df):\n",
    "    cols = df.dtypes.index.tolist()\n",
    "    types = df.dtypes.values.tolist()\n",
    "    for i,t in enumerate(types):\n",
    "        if 'int' in str(t):\n",
    "            if df[cols[i]].min() > np.iinfo(np.int8).min and df[cols[i]].max() < np.iinfo(np.int8).max:\n",
    "                df[cols[i]] = df[cols[i]].astype(np.int8)\n",
    "            elif df[cols[i]].min() > np.iinfo(np.int16).min and df[cols[i]].max() < np.iinfo(np.int16).max:\n",
    "                df[cols[i]] = df[cols[i]].astype(np.int16)\n",
    "            elif df[cols[i]].min() > np.iinfo(np.int32).min and df[cols[i]].max() < np.iinfo(np.int32).max:\n",
    "                df[cols[i]] = df[cols[i]].astype(np.int32)\n",
    "            else:\n",
    "                df[cols[i]] = df[cols[i]].astype(np.int64)\n",
    "        elif 'float' in str(t):\n",
    "            if df[cols[i]].min() > np.finfo(np.float16).min and df[cols[i]].max() < np.finfo(np.float16).max:\n",
    "                df[cols[i]] = df[cols[i]].astype(np.float16)\n",
    "            elif df[cols[i]].min() > np.finfo(np.float32).min and df[cols[i]].max() < np.finfo(np.float32).max:\n",
    "                df[cols[i]] = df[cols[i]].astype(np.float32)\n",
    "            else:\n",
    "                df[cols[i]] = df[cols[i]].astype(np.float64)\n",
    "        elif t == np.object:\n",
    "            if cols[i] == 'date':\n",
    "                df[cols[i]] = pd.to_datetime(df[cols[i]], format='%Y-%m-%d')\n",
    "            else:\n",
    "                df[cols[i]] = df[cols[i]].astype('category')\n",
    "    return df  \n",
    "\n",
    "sales = downcast(sales)\n",
    "prices = downcast(prices)\n",
    "calendar = downcast(calendar)\n"
   ]
  },
  {
   "cell_type": "code",
   "execution_count": 6,
   "metadata": {
    "_kg_hide-input": false,
    "_kg_hide-output": false,
    "execution": {
     "iopub.execute_input": "2022-08-16T23:35:38.175505Z",
     "iopub.status.busy": "2022-08-16T23:35:38.174688Z",
     "iopub.status.idle": "2022-08-16T23:38:37.510439Z",
     "shell.execute_reply": "2022-08-16T23:38:37.509698Z",
     "shell.execute_reply.started": "2022-08-16T22:47:31.602341Z"
    },
    "papermill": {
     "duration": 179.363981,
     "end_time": "2022-08-16T23:38:37.510618",
     "exception": false,
     "start_time": "2022-08-16T23:35:38.146637",
     "status": "completed"
    },
    "tags": []
   },
   "outputs": [],
   "source": [
    "df = pd.melt(sales, id_vars=['id', 'item_id', 'dept_id', 'cat_id', 'store_id', 'state_id'], var_name='d', value_name='sold').dropna()"
   ]
  },
  {
   "cell_type": "code",
   "execution_count": 7,
   "metadata": {
    "_kg_hide-input": false,
    "execution": {
     "iopub.execute_input": "2022-08-16T23:38:37.561686Z",
     "iopub.status.busy": "2022-08-16T23:38:37.560649Z",
     "iopub.status.idle": "2022-08-16T23:39:21.580457Z",
     "shell.execute_reply": "2022-08-16T23:39:21.579604Z",
     "shell.execute_reply.started": "2022-08-16T22:50:40.907051Z"
    },
    "papermill": {
     "duration": 44.046138,
     "end_time": "2022-08-16T23:39:21.580649",
     "exception": false,
     "start_time": "2022-08-16T23:38:37.534511",
     "status": "completed"
    },
    "tags": []
   },
   "outputs": [],
   "source": [
    "df = pd.merge(df, calendar, on='d', how='left')\n",
    "df = pd.merge(df, prices, on=['store_id','item_id','wm_yr_wk'], how='left') "
   ]
  },
  {
   "cell_type": "code",
   "execution_count": 8,
   "metadata": {
    "_kg_hide-input": true,
    "execution": {
     "iopub.execute_input": "2022-08-16T23:39:21.632290Z",
     "iopub.status.busy": "2022-08-16T23:39:21.631220Z",
     "iopub.status.idle": "2022-08-16T23:39:22.177675Z",
     "shell.execute_reply": "2022-08-16T23:39:22.178390Z",
     "shell.execute_reply.started": "2022-08-16T22:51:27.371543Z"
    },
    "papermill": {
     "duration": 0.57358,
     "end_time": "2022-08-16T23:39:22.178565",
     "exception": false,
     "start_time": "2022-08-16T23:39:21.604985",
     "status": "completed"
    },
    "tags": []
   },
   "outputs": [],
   "source": [
    "df['revenue'] = df['sold']*df['sell_price'].astype(np.float32)"
   ]
  },
  {
   "cell_type": "code",
   "execution_count": 9,
   "metadata": {
    "execution": {
     "iopub.execute_input": "2022-08-16T23:39:22.253643Z",
     "iopub.status.busy": "2022-08-16T23:39:22.236749Z",
     "iopub.status.idle": "2022-08-16T23:39:22.274767Z",
     "shell.execute_reply": "2022-08-16T23:39:22.274052Z",
     "shell.execute_reply.started": "2022-08-16T22:51:27.907743Z"
    },
    "papermill": {
     "duration": 0.072636,
     "end_time": "2022-08-16T23:39:22.274924",
     "exception": false,
     "start_time": "2022-08-16T23:39:22.202288",
     "status": "completed"
    },
    "tags": []
   },
   "outputs": [
    {
     "data": {
      "text/html": [
       "<div>\n",
       "<style scoped>\n",
       "    .dataframe tbody tr th:only-of-type {\n",
       "        vertical-align: middle;\n",
       "    }\n",
       "\n",
       "    .dataframe tbody tr th {\n",
       "        vertical-align: top;\n",
       "    }\n",
       "\n",
       "    .dataframe thead th {\n",
       "        text-align: right;\n",
       "    }\n",
       "</style>\n",
       "<table border=\"1\" class=\"dataframe\">\n",
       "  <thead>\n",
       "    <tr style=\"text-align: right;\">\n",
       "      <th></th>\n",
       "      <th>id</th>\n",
       "      <th>item_id</th>\n",
       "      <th>dept_id</th>\n",
       "      <th>cat_id</th>\n",
       "      <th>store_id</th>\n",
       "      <th>state_id</th>\n",
       "      <th>d</th>\n",
       "      <th>sold</th>\n",
       "      <th>date</th>\n",
       "      <th>wm_yr_wk</th>\n",
       "      <th>...</th>\n",
       "      <th>year</th>\n",
       "      <th>event_name_1</th>\n",
       "      <th>event_type_1</th>\n",
       "      <th>event_name_2</th>\n",
       "      <th>event_type_2</th>\n",
       "      <th>snap_CA</th>\n",
       "      <th>snap_TX</th>\n",
       "      <th>snap_WI</th>\n",
       "      <th>sell_price</th>\n",
       "      <th>revenue</th>\n",
       "    </tr>\n",
       "  </thead>\n",
       "  <tbody>\n",
       "    <tr>\n",
       "      <th>0</th>\n",
       "      <td>HOBBIES_1_001_CA_1_evaluation</td>\n",
       "      <td>HOBBIES_1_001</td>\n",
       "      <td>HOBBIES_1</td>\n",
       "      <td>HOBBIES</td>\n",
       "      <td>CA_1</td>\n",
       "      <td>CA</td>\n",
       "      <td>d_1</td>\n",
       "      <td>0</td>\n",
       "      <td>2011-01-29</td>\n",
       "      <td>11101</td>\n",
       "      <td>...</td>\n",
       "      <td>2011</td>\n",
       "      <td>NaN</td>\n",
       "      <td>NaN</td>\n",
       "      <td>NaN</td>\n",
       "      <td>NaN</td>\n",
       "      <td>0</td>\n",
       "      <td>0</td>\n",
       "      <td>0</td>\n",
       "      <td>NaN</td>\n",
       "      <td>NaN</td>\n",
       "    </tr>\n",
       "    <tr>\n",
       "      <th>1</th>\n",
       "      <td>HOBBIES_1_002_CA_1_evaluation</td>\n",
       "      <td>HOBBIES_1_002</td>\n",
       "      <td>HOBBIES_1</td>\n",
       "      <td>HOBBIES</td>\n",
       "      <td>CA_1</td>\n",
       "      <td>CA</td>\n",
       "      <td>d_1</td>\n",
       "      <td>0</td>\n",
       "      <td>2011-01-29</td>\n",
       "      <td>11101</td>\n",
       "      <td>...</td>\n",
       "      <td>2011</td>\n",
       "      <td>NaN</td>\n",
       "      <td>NaN</td>\n",
       "      <td>NaN</td>\n",
       "      <td>NaN</td>\n",
       "      <td>0</td>\n",
       "      <td>0</td>\n",
       "      <td>0</td>\n",
       "      <td>NaN</td>\n",
       "      <td>NaN</td>\n",
       "    </tr>\n",
       "    <tr>\n",
       "      <th>2</th>\n",
       "      <td>HOBBIES_1_003_CA_1_evaluation</td>\n",
       "      <td>HOBBIES_1_003</td>\n",
       "      <td>HOBBIES_1</td>\n",
       "      <td>HOBBIES</td>\n",
       "      <td>CA_1</td>\n",
       "      <td>CA</td>\n",
       "      <td>d_1</td>\n",
       "      <td>0</td>\n",
       "      <td>2011-01-29</td>\n",
       "      <td>11101</td>\n",
       "      <td>...</td>\n",
       "      <td>2011</td>\n",
       "      <td>NaN</td>\n",
       "      <td>NaN</td>\n",
       "      <td>NaN</td>\n",
       "      <td>NaN</td>\n",
       "      <td>0</td>\n",
       "      <td>0</td>\n",
       "      <td>0</td>\n",
       "      <td>NaN</td>\n",
       "      <td>NaN</td>\n",
       "    </tr>\n",
       "    <tr>\n",
       "      <th>3</th>\n",
       "      <td>HOBBIES_1_004_CA_1_evaluation</td>\n",
       "      <td>HOBBIES_1_004</td>\n",
       "      <td>HOBBIES_1</td>\n",
       "      <td>HOBBIES</td>\n",
       "      <td>CA_1</td>\n",
       "      <td>CA</td>\n",
       "      <td>d_1</td>\n",
       "      <td>0</td>\n",
       "      <td>2011-01-29</td>\n",
       "      <td>11101</td>\n",
       "      <td>...</td>\n",
       "      <td>2011</td>\n",
       "      <td>NaN</td>\n",
       "      <td>NaN</td>\n",
       "      <td>NaN</td>\n",
       "      <td>NaN</td>\n",
       "      <td>0</td>\n",
       "      <td>0</td>\n",
       "      <td>0</td>\n",
       "      <td>NaN</td>\n",
       "      <td>NaN</td>\n",
       "    </tr>\n",
       "    <tr>\n",
       "      <th>4</th>\n",
       "      <td>HOBBIES_1_005_CA_1_evaluation</td>\n",
       "      <td>HOBBIES_1_005</td>\n",
       "      <td>HOBBIES_1</td>\n",
       "      <td>HOBBIES</td>\n",
       "      <td>CA_1</td>\n",
       "      <td>CA</td>\n",
       "      <td>d_1</td>\n",
       "      <td>0</td>\n",
       "      <td>2011-01-29</td>\n",
       "      <td>11101</td>\n",
       "      <td>...</td>\n",
       "      <td>2011</td>\n",
       "      <td>NaN</td>\n",
       "      <td>NaN</td>\n",
       "      <td>NaN</td>\n",
       "      <td>NaN</td>\n",
       "      <td>0</td>\n",
       "      <td>0</td>\n",
       "      <td>0</td>\n",
       "      <td>NaN</td>\n",
       "      <td>NaN</td>\n",
       "    </tr>\n",
       "  </tbody>\n",
       "</table>\n",
       "<p>5 rows × 23 columns</p>\n",
       "</div>"
      ],
      "text/plain": [
       "                              id        item_id    dept_id   cat_id store_id  \\\n",
       "0  HOBBIES_1_001_CA_1_evaluation  HOBBIES_1_001  HOBBIES_1  HOBBIES     CA_1   \n",
       "1  HOBBIES_1_002_CA_1_evaluation  HOBBIES_1_002  HOBBIES_1  HOBBIES     CA_1   \n",
       "2  HOBBIES_1_003_CA_1_evaluation  HOBBIES_1_003  HOBBIES_1  HOBBIES     CA_1   \n",
       "3  HOBBIES_1_004_CA_1_evaluation  HOBBIES_1_004  HOBBIES_1  HOBBIES     CA_1   \n",
       "4  HOBBIES_1_005_CA_1_evaluation  HOBBIES_1_005  HOBBIES_1  HOBBIES     CA_1   \n",
       "\n",
       "  state_id    d  sold       date  wm_yr_wk  ...  year  event_name_1  \\\n",
       "0       CA  d_1     0 2011-01-29     11101  ...  2011           NaN   \n",
       "1       CA  d_1     0 2011-01-29     11101  ...  2011           NaN   \n",
       "2       CA  d_1     0 2011-01-29     11101  ...  2011           NaN   \n",
       "3       CA  d_1     0 2011-01-29     11101  ...  2011           NaN   \n",
       "4       CA  d_1     0 2011-01-29     11101  ...  2011           NaN   \n",
       "\n",
       "   event_type_1  event_name_2 event_type_2 snap_CA snap_TX snap_WI  \\\n",
       "0           NaN           NaN          NaN       0       0       0   \n",
       "1           NaN           NaN          NaN       0       0       0   \n",
       "2           NaN           NaN          NaN       0       0       0   \n",
       "3           NaN           NaN          NaN       0       0       0   \n",
       "4           NaN           NaN          NaN       0       0       0   \n",
       "\n",
       "   sell_price  revenue  \n",
       "0         NaN      NaN  \n",
       "1         NaN      NaN  \n",
       "2         NaN      NaN  \n",
       "3         NaN      NaN  \n",
       "4         NaN      NaN  \n",
       "\n",
       "[5 rows x 23 columns]"
      ]
     },
     "execution_count": 9,
     "metadata": {},
     "output_type": "execute_result"
    }
   ],
   "source": [
    "df.head()"
   ]
  },
  {
   "cell_type": "code",
   "execution_count": 10,
   "metadata": {
    "execution": {
     "iopub.execute_input": "2022-08-16T23:39:22.336776Z",
     "iopub.status.busy": "2022-08-16T23:39:22.332211Z",
     "iopub.status.idle": "2022-08-16T23:39:22.896846Z",
     "shell.execute_reply": "2022-08-16T23:39:22.895717Z",
     "shell.execute_reply.started": "2022-08-16T22:51:27.959927Z"
    },
    "papermill": {
     "duration": 0.597534,
     "end_time": "2022-08-16T23:39:22.897061",
     "exception": false,
     "start_time": "2022-08-16T23:39:22.299527",
     "status": "completed"
    },
    "tags": []
   },
   "outputs": [
    {
     "name": "stdout",
     "output_type": "stream",
     "text": [
      "<class 'pandas.core.frame.DataFrame'>\n",
      "Int64Index: 60034810 entries, 0 to 60034809\n",
      "Data columns (total 23 columns):\n",
      " #   Column        Dtype         \n",
      "---  ------        -----         \n",
      " 0   id            category      \n",
      " 1   item_id       category      \n",
      " 2   dept_id       category      \n",
      " 3   cat_id        category      \n",
      " 4   store_id      category      \n",
      " 5   state_id      category      \n",
      " 6   d             object        \n",
      " 7   sold          int16         \n",
      " 8   date          datetime64[ns]\n",
      " 9   wm_yr_wk      int16         \n",
      " 10  weekday       category      \n",
      " 11  wday          int8          \n",
      " 12  month         int8          \n",
      " 13  year          int16         \n",
      " 14  event_name_1  category      \n",
      " 15  event_type_1  category      \n",
      " 16  event_name_2  category      \n",
      " 17  event_type_2  category      \n",
      " 18  snap_CA       int8          \n",
      " 19  snap_TX       int8          \n",
      " 20  snap_WI       int8          \n",
      " 21  sell_price    float16       \n",
      " 22  revenue       float32       \n",
      "dtypes: category(11), datetime64[ns](1), float16(1), float32(1), int16(3), int8(5), object(1)\n",
      "memory usage: 3.0+ GB\n"
     ]
    }
   ],
   "source": [
    "df.info()"
   ]
  },
  {
   "cell_type": "code",
   "execution_count": 11,
   "metadata": {
    "execution": {
     "iopub.execute_input": "2022-08-16T23:39:22.957310Z",
     "iopub.status.busy": "2022-08-16T23:39:22.955691Z",
     "iopub.status.idle": "2022-08-16T23:40:41.452936Z",
     "shell.execute_reply": "2022-08-16T23:40:41.452106Z",
     "shell.execute_reply.started": "2022-08-16T22:51:28.529702Z"
    },
    "papermill": {
     "duration": 78.530174,
     "end_time": "2022-08-16T23:40:41.453188",
     "exception": false,
     "start_time": "2022-08-16T23:39:22.923014",
     "status": "completed"
    },
    "tags": []
   },
   "outputs": [],
   "source": [
    "#Store the categories along with their codes\n",
    "d_id = dict(zip(df.id.cat.codes, df.id))\n",
    "d_item_id = dict(zip(df.item_id.cat.codes, df.item_id))\n",
    "d_dept_id = dict(zip(df.dept_id.cat.codes, df.dept_id))\n",
    "d_cat_id = dict(zip(df.cat_id.cat.codes, df.cat_id))\n",
    "d_store_id = dict(zip(df.store_id.cat.codes, df.store_id))\n",
    "d_state_id = dict(zip(df.state_id.cat.codes, df.state_id))"
   ]
  },
  {
   "cell_type": "code",
   "execution_count": 12,
   "metadata": {
    "execution": {
     "iopub.execute_input": "2022-08-16T23:40:42.719539Z",
     "iopub.status.busy": "2022-08-16T23:40:42.718755Z",
     "iopub.status.idle": "2022-08-16T23:41:17.910619Z",
     "shell.execute_reply": "2022-08-16T23:41:17.909843Z",
     "shell.execute_reply.started": "2022-08-16T22:52:46.610788Z"
    },
    "papermill": {
     "duration": 36.432261,
     "end_time": "2022-08-16T23:41:17.910760",
     "exception": false,
     "start_time": "2022-08-16T23:40:41.478499",
     "status": "completed"
    },
    "tags": []
   },
   "outputs": [],
   "source": [
    "#1\n",
    "#del group, group_price_cat, group_price_store, group_state, group_state_store, cal_data\n",
    "#gc.collect();\n",
    "\n",
    "#2\n",
    "df.d = df['d'].apply(lambda x: x.split('_')[1]).astype(np.int16)\n",
    "cols = df.dtypes.index.tolist()\n",
    "types = df.dtypes.values.tolist()\n",
    "for i,type in enumerate(types):\n",
    "    if type.name == 'category':\n",
    "        df[cols[i]] = df[cols[i]].cat.codes\n",
    "        \n",
    "#3\n",
    "df.drop('date',axis=1,inplace=True)"
   ]
  },
  {
   "cell_type": "markdown",
   "metadata": {
    "papermill": {
     "duration": 0.024217,
     "end_time": "2022-08-16T23:41:17.959823",
     "exception": false,
     "start_time": "2022-08-16T23:41:17.935606",
     "status": "completed"
    },
    "tags": []
   },
   "source": [
    "<a id = 'F2'><h2>5.2 Introduce Lags</h2></a>\n",
    "<a href='#topics'><span class=\"label label-info\">Go back to topics</span></a>\n",
    "\n",
    "Lag features are the classical way that time series forecasting problems are transformed into supervised learning problems.\n",
    "\n",
    "Introduce lags to the the target variable `sold`. The maximum lag I have introduced is 36 days. It's purely upto you how many lags you want to introduce."
   ]
  },
  {
   "cell_type": "code",
   "execution_count": 13,
   "metadata": {
    "execution": {
     "iopub.execute_input": "2022-08-16T23:41:18.016929Z",
     "iopub.status.busy": "2022-08-16T23:41:18.016159Z",
     "iopub.status.idle": "2022-08-16T23:41:43.275628Z",
     "shell.execute_reply": "2022-08-16T23:41:43.274926Z",
     "shell.execute_reply.started": "2022-08-16T22:53:24.284015Z"
    },
    "papermill": {
     "duration": 25.29153,
     "end_time": "2022-08-16T23:41:43.275781",
     "exception": false,
     "start_time": "2022-08-16T23:41:17.984251",
     "status": "completed"
    },
    "tags": []
   },
   "outputs": [],
   "source": [
    "#Introduce lags\n",
    "lags = [24,36]\n",
    "for lag in lags:\n",
    "    df['sold_lag_'+str(lag)] = df.groupby(['id', 'item_id', 'dept_id', 'cat_id', 'store_id', 'state_id'],as_index=False)['sold'].shift(lag).astype(np.float16)"
   ]
  },
  {
   "cell_type": "markdown",
   "metadata": {
    "papermill": {
     "duration": 0.024396,
     "end_time": "2022-08-16T23:41:43.325208",
     "exception": false,
     "start_time": "2022-08-16T23:41:43.300812",
     "status": "completed"
    },
    "tags": []
   },
   "source": [
    "<a id = 'F3'><h2>5.3 Mean Encoding</h2></a>\n",
    "<a href='#topics'><span class=\"label label-info\">Go back to topics</span></a>\n",
    "\n",
    "From a mathematical point of view, mean encoding represents a probability of your target variable, conditional on each value of the feature. In a way, it embodies the target variable in its encoded value. I have calculated mean encodings on the basis of following logical features I could think of:-\n",
    "- item\n",
    "- state\n",
    "- store\n",
    "- category\n",
    "- department\n",
    "- category & department\n",
    "- store & item\n",
    "- category & item\n",
    "- department & item\n",
    "- state & store\n",
    "- state, store and category\n",
    "- store, category and department\n",
    "\n",
    "<h2>Feel free to add more!</h2>"
   ]
  },
  {
   "cell_type": "code",
   "execution_count": 14,
   "metadata": {
    "execution": {
     "iopub.execute_input": "2022-08-16T23:41:43.380829Z",
     "iopub.status.busy": "2022-08-16T23:41:43.380077Z",
     "iopub.status.idle": "2022-08-16T23:41:43.383780Z",
     "shell.execute_reply": "2022-08-16T23:41:43.383205Z",
     "shell.execute_reply.started": "2022-08-16T22:53:54.377901Z"
    },
    "papermill": {
     "duration": 0.03369,
     "end_time": "2022-08-16T23:41:43.383986",
     "exception": false,
     "start_time": "2022-08-16T23:41:43.350296",
     "status": "completed"
    },
    "tags": []
   },
   "outputs": [],
   "source": [
    "# df['iteam_sold_avg'] = df.groupby('item_id')['sold'].transform('mean').astype(np.float16)\n",
    "# df['state_sold_avg'] = df.groupby('state_id')['sold'].transform('mean').astype(np.float16)\n",
    "# df['store_sold_avg'] = df.groupby('store_id')['sold'].transform('mean').astype(np.float16)\n",
    "# df['cat_sold_avg'] = df.groupby('cat_id')['sold'].transform('mean').astype(np.float16)\n",
    "# df['dept_sold_avg'] = df.groupby('dept_id')['sold'].transform('mean').astype(np.float16)\n",
    "# df['cat_dept_sold_avg'] = df.groupby(['cat_id','dept_id'])['sold'].transform('mean').astype(np.float16)\n",
    "# df['store_item_sold_avg'] = df.groupby(['store_id','item_id'])['sold'].transform('mean').astype(np.float16)\n",
    "# df['cat_item_sold_avg'] = df.groupby(['cat_id','item_id'])['sold'].transform('mean').astype(np.float16)\n",
    "# df['dept_item_sold_avg'] = df.groupby(['dept_id','item_id'])['sold'].transform('mean').astype(np.float16)\n",
    "# df['state_store_sold_avg'] = df.groupby(['state_id','store_id'])['sold'].transform('mean').astype(np.float16)\n",
    "# df['state_store_cat_sold_avg'] = df.groupby(['state_id','store_id','cat_id'])['sold'].transform('mean').astype(np.float16)\n",
    "# df['store_cat_dept_sold_avg'] = df.groupby(['store_id','cat_id','dept_id'])['sold'].transform('mean').astype(np.float16)"
   ]
  },
  {
   "cell_type": "markdown",
   "metadata": {
    "papermill": {
     "duration": 0.024145,
     "end_time": "2022-08-16T23:41:43.432969",
     "exception": false,
     "start_time": "2022-08-16T23:41:43.408824",
     "status": "completed"
    },
    "tags": []
   },
   "source": [
    "<a id = 'F4'><h2>5.4 Rolling Window Statistics</h2></a>\n",
    "<a href='#topics'><span class=\"label label-info\">Go back to topics</span></a>\n",
    "\n",
    "Here’s an awesome gif that explains this idea in a wonderfully intuitive way:\n",
    "![](https://cdn.analyticsvidhya.com/wp-content/uploads/2019/11/3hotmk.gif)\n",
    "`This method is called the rolling window method because the window would be different for every data point.`\n",
    "\n",
    "I'll be calculating weekly rolling avearge of the items sold. More features like rolling min, max or sum can also be calculated. Also, same features can be calculated for revenue as well."
   ]
  },
  {
   "cell_type": "code",
   "execution_count": 15,
   "metadata": {
    "execution": {
     "iopub.execute_input": "2022-08-16T23:41:43.487018Z",
     "iopub.status.busy": "2022-08-16T23:41:43.485908Z",
     "iopub.status.idle": "2022-08-16T23:42:57.576264Z",
     "shell.execute_reply": "2022-08-16T23:42:57.575601Z",
     "shell.execute_reply.started": "2022-08-16T22:53:54.384879Z"
    },
    "papermill": {
     "duration": 74.11898,
     "end_time": "2022-08-16T23:42:57.576433",
     "exception": false,
     "start_time": "2022-08-16T23:41:43.457453",
     "status": "completed"
    },
    "tags": []
   },
   "outputs": [],
   "source": [
    "df['rolling_sold_mean'] = df.groupby(['id', 'item_id', 'dept_id', 'cat_id', 'store_id', 'state_id'])['sold'].transform(lambda x: x.rolling(window=7).mean()).astype(np.float16)"
   ]
  },
  {
   "cell_type": "markdown",
   "metadata": {
    "papermill": {
     "duration": 0.023714,
     "end_time": "2022-08-16T23:42:57.625694",
     "exception": false,
     "start_time": "2022-08-16T23:42:57.601980",
     "status": "completed"
    },
    "tags": []
   },
   "source": [
    "<a id = 'F5'><h2>5.5 Expanding Window Statistics</h2></a>\n",
    "<a href='#topics'><span class=\"label label-info\">Go back to topics</span></a>\n",
    "\n",
    "This is simply an advanced version of the rolling window technique. In the case of a rolling window, the size of the window is constant while the window slides as we move forward in time. Hence, we consider only the most recent values and ignore the past values. Here’s a gif that explains how our expanding window function works:\n",
    "![](https://cdn.analyticsvidhya.com/wp-content/uploads/2019/12/output_B4KHcT.gif)\n",
    "\n",
    "I'll be calculating expanding avearge of the items sold. More features like expanding min, max or sum can also be calculated. Also, same features can be calculated for revenue as well."
   ]
  },
  {
   "cell_type": "code",
   "execution_count": 16,
   "metadata": {
    "execution": {
     "iopub.execute_input": "2022-08-16T23:42:57.683209Z",
     "iopub.status.busy": "2022-08-16T23:42:57.679615Z",
     "iopub.status.idle": "2022-08-16T23:44:10.991026Z",
     "shell.execute_reply": "2022-08-16T23:44:10.990080Z",
     "shell.execute_reply.started": "2022-08-16T22:55:18.715771Z"
    },
    "papermill": {
     "duration": 73.339434,
     "end_time": "2022-08-16T23:44:10.991193",
     "exception": false,
     "start_time": "2022-08-16T23:42:57.651759",
     "status": "completed"
    },
    "tags": []
   },
   "outputs": [],
   "source": [
    "df['expanding_sold_mean'] = df.groupby(['id', 'item_id', 'dept_id', 'cat_id', 'store_id', 'state_id'])['sold'].transform(lambda x: x.expanding(2).mean()).astype(np.float16)"
   ]
  },
  {
   "cell_type": "markdown",
   "metadata": {
    "papermill": {
     "duration": 0.025329,
     "end_time": "2022-08-16T23:44:11.041390",
     "exception": false,
     "start_time": "2022-08-16T23:44:11.016061",
     "status": "completed"
    },
    "tags": []
   },
   "source": [
    "<a id = 'F6'><h2>5.6 Trends</h2></a>\n",
    "<a href='#topics'><span class=\"label label-info\">Go back to topics</span></a>\n",
    "\n",
    "I will be creating a selling trend feature, which will be some positive value if the daily items sold are greater than the entire duration average **( d_1 - d_1969 )** else negative. More trend features can be added but I'll only add this one to keep it simple."
   ]
  },
  {
   "cell_type": "code",
   "execution_count": 17,
   "metadata": {
    "execution": {
     "iopub.execute_input": "2022-08-16T23:44:11.098484Z",
     "iopub.status.busy": "2022-08-16T23:44:11.097770Z",
     "iopub.status.idle": "2022-08-16T23:45:47.433414Z",
     "shell.execute_reply": "2022-08-16T23:45:47.432668Z",
     "shell.execute_reply.started": "2022-08-16T22:56:36.301333Z"
    },
    "papermill": {
     "duration": 96.368005,
     "end_time": "2022-08-16T23:45:47.433575",
     "exception": false,
     "start_time": "2022-08-16T23:44:11.065570",
     "status": "completed"
    },
    "tags": []
   },
   "outputs": [],
   "source": [
    "df['daily_avg_sold'] = df.groupby(['id', 'item_id', 'dept_id', 'cat_id', 'store_id', 'state_id','d'])['sold'].transform('mean').astype(np.float16)\n",
    "df['avg_sold'] = df.groupby(['id', 'item_id', 'dept_id', 'cat_id', 'store_id', 'state_id'])['sold'].transform('mean').astype(np.float16)\n",
    "df['selling_trend'] = (df['daily_avg_sold'] - df['avg_sold']).astype(np.float16)\n",
    "df.drop(['daily_avg_sold','avg_sold'],axis=1,inplace=True)"
   ]
  },
  {
   "cell_type": "markdown",
   "metadata": {
    "papermill": {
     "duration": 0.024209,
     "end_time": "2022-08-16T23:45:47.482769",
     "exception": false,
     "start_time": "2022-08-16T23:45:47.458560",
     "status": "completed"
    },
    "tags": []
   },
   "source": [
    "<a id = 'F6'><h2>5.7 Save the data</h2></a>\n",
    "<a href='#topics'><span class=\"label label-info\">Go back to topics</span></a>\n",
    "\n",
    "Now since all the new features are created, let's save the data so that it can be trained separately.Also, lags introduce a lot of Null values, so I'll remove data for first 35 days as I have introduced lags till 36 days."
   ]
  },
  {
   "cell_type": "code",
   "execution_count": 18,
   "metadata": {
    "execution": {
     "iopub.execute_input": "2022-08-16T23:45:47.535354Z",
     "iopub.status.busy": "2022-08-16T23:45:47.534624Z",
     "iopub.status.idle": "2022-08-16T23:45:52.964769Z",
     "shell.execute_reply": "2022-08-16T23:45:52.964207Z",
     "shell.execute_reply.started": "2022-08-16T22:58:20.169682Z"
    },
    "papermill": {
     "duration": 5.457516,
     "end_time": "2022-08-16T23:45:52.964921",
     "exception": false,
     "start_time": "2022-08-16T23:45:47.507405",
     "status": "completed"
    },
    "tags": []
   },
   "outputs": [],
   "source": [
    "df = df[df['d']>=36]"
   ]
  },
  {
   "cell_type": "markdown",
   "metadata": {
    "papermill": {
     "duration": 0.024051,
     "end_time": "2022-08-16T23:45:53.013912",
     "exception": false,
     "start_time": "2022-08-16T23:45:52.989861",
     "status": "completed"
    },
    "tags": []
   },
   "source": [
    "Let's look at our new dataframe."
   ]
  },
  {
   "cell_type": "code",
   "execution_count": 19,
   "metadata": {
    "execution": {
     "iopub.execute_input": "2022-08-16T23:45:53.077780Z",
     "iopub.status.busy": "2022-08-16T23:45:53.077074Z",
     "iopub.status.idle": "2022-08-16T23:45:53.080858Z",
     "shell.execute_reply": "2022-08-16T23:45:53.080128Z",
     "shell.execute_reply.started": "2022-08-16T22:58:25.405420Z"
    },
    "papermill": {
     "duration": 0.042602,
     "end_time": "2022-08-16T23:45:53.081052",
     "exception": false,
     "start_time": "2022-08-16T23:45:53.038450",
     "status": "completed"
    },
    "tags": []
   },
   "outputs": [
    {
     "name": "stdout",
     "output_type": "stream",
     "text": [
      "<class 'pandas.core.frame.DataFrame'>\n",
      "Int64Index: 58967660 entries, 1067150 to 60034809\n",
      "Data columns (total 27 columns):\n",
      " #   Column               Dtype  \n",
      "---  ------               -----  \n",
      " 0   id                   int16  \n",
      " 1   item_id              int16  \n",
      " 2   dept_id              int8   \n",
      " 3   cat_id               int8   \n",
      " 4   store_id             int8   \n",
      " 5   state_id             int8   \n",
      " 6   d                    int16  \n",
      " 7   sold                 int16  \n",
      " 8   wm_yr_wk             int16  \n",
      " 9   weekday              int8   \n",
      " 10  wday                 int8   \n",
      " 11  month                int8   \n",
      " 12  year                 int16  \n",
      " 13  event_name_1         int8   \n",
      " 14  event_type_1         int8   \n",
      " 15  event_name_2         int8   \n",
      " 16  event_type_2         int8   \n",
      " 17  snap_CA              int8   \n",
      " 18  snap_TX              int8   \n",
      " 19  snap_WI              int8   \n",
      " 20  sell_price           float16\n",
      " 21  revenue              float32\n",
      " 22  sold_lag_24          float16\n",
      " 23  sold_lag_36          float16\n",
      " 24  rolling_sold_mean    float16\n",
      " 25  expanding_sold_mean  float16\n",
      " 26  selling_trend        float16\n",
      "dtypes: float16(6), float32(1), int16(6), int8(14)\n",
      "memory usage: 2.7 GB\n"
     ]
    }
   ],
   "source": [
    "df.info()"
   ]
  },
  {
   "cell_type": "markdown",
   "metadata": {
    "papermill": {
     "duration": 0.024611,
     "end_time": "2022-08-16T23:45:53.131709",
     "exception": false,
     "start_time": "2022-08-16T23:45:53.107098",
     "status": "completed"
    },
    "tags": []
   },
   "source": [
    "Save the data for training."
   ]
  },
  {
   "cell_type": "code",
   "execution_count": 20,
   "metadata": {
    "execution": {
     "iopub.execute_input": "2022-08-16T23:45:53.185949Z",
     "iopub.status.busy": "2022-08-16T23:45:53.185263Z",
     "iopub.status.idle": "2022-08-16T23:45:53.188699Z",
     "shell.execute_reply": "2022-08-16T23:45:53.188057Z",
     "shell.execute_reply.started": "2022-08-16T22:58:25.423145Z"
    },
    "papermill": {
     "duration": 0.032132,
     "end_time": "2022-08-16T23:45:53.188823",
     "exception": false,
     "start_time": "2022-08-16T23:45:53.156691",
     "status": "completed"
    },
    "tags": []
   },
   "outputs": [],
   "source": [
    "# df.to_pickle('data.pkl')\n",
    "# del df\n",
    "# gc.collect();"
   ]
  },
  {
   "cell_type": "markdown",
   "metadata": {
    "papermill": {
     "duration": 0.024237,
     "end_time": "2022-08-16T23:45:53.237651",
     "exception": false,
     "start_time": "2022-08-16T23:45:53.213414",
     "status": "completed"
    },
    "tags": []
   },
   "source": [
    "# <a id='pred'>6. Modelling and Prediction</a>"
   ]
  },
  {
   "cell_type": "code",
   "execution_count": 21,
   "metadata": {
    "execution": {
     "iopub.execute_input": "2022-08-16T23:45:53.295022Z",
     "iopub.status.busy": "2022-08-16T23:45:53.294326Z",
     "iopub.status.idle": "2022-08-16T23:45:53.589137Z",
     "shell.execute_reply": "2022-08-16T23:45:53.588492Z",
     "shell.execute_reply.started": "2022-08-16T22:58:25.438711Z"
    },
    "papermill": {
     "duration": 0.326712,
     "end_time": "2022-08-16T23:45:53.589285",
     "exception": false,
     "start_time": "2022-08-16T23:45:53.262573",
     "status": "completed"
    },
    "tags": []
   },
   "outputs": [],
   "source": [
    "#data = pd.read_pickle('./data.pkl')\n",
    "#data = df\n",
    "valid = df[(df['d']>=1914) & (df['d']<1942)][['id','d','sold']]\n",
    "test = df[df['d']>=1942][['id','d','sold']]\n",
    "eval_preds = test['sold']\n",
    "valid_preds = valid['sold']"
   ]
  },
  {
   "cell_type": "code",
   "execution_count": 22,
   "metadata": {
    "execution": {
     "iopub.execute_input": "2022-08-16T23:45:53.652648Z",
     "iopub.status.busy": "2022-08-16T23:45:53.651869Z",
     "iopub.status.idle": "2022-08-17T00:10:55.482584Z",
     "shell.execute_reply": "2022-08-17T00:10:55.483406Z",
     "shell.execute_reply.started": "2022-08-16T22:58:25.777733Z"
    },
    "papermill": {
     "duration": 1501.869498,
     "end_time": "2022-08-17T00:10:55.483810",
     "exception": false,
     "start_time": "2022-08-16T23:45:53.614312",
     "status": "completed"
    },
    "tags": []
   },
   "outputs": [
    {
     "name": "stdout",
     "output_type": "stream",
     "text": [
      "*****Prediction for Store: CA_1*****\n",
      "Training until validation scores don't improve for 20 rounds\n",
      "[20]\ttraining's rmse: 0.693643\ttraining's l2: 0.481141\tvalid_1's rmse: 0.429568\tvalid_1's l2: 0.184528\n",
      "[40]\ttraining's rmse: 0.634912\ttraining's l2: 0.403113\tvalid_1's rmse: 0.384198\tvalid_1's l2: 0.147608\n",
      "[60]\ttraining's rmse: 0.607025\ttraining's l2: 0.36848\tvalid_1's rmse: 0.372615\tvalid_1's l2: 0.138842\n",
      "[80]\ttraining's rmse: 0.585833\ttraining's l2: 0.3432\tvalid_1's rmse: 0.362925\tvalid_1's l2: 0.131715\n",
      "[100]\ttraining's rmse: 0.573268\ttraining's l2: 0.328636\tvalid_1's rmse: 0.360621\tvalid_1's l2: 0.130048\n",
      "[120]\ttraining's rmse: 0.560524\ttraining's l2: 0.314187\tvalid_1's rmse: 0.351369\tvalid_1's l2: 0.12346\n",
      "[140]\ttraining's rmse: 0.550117\ttraining's l2: 0.302628\tvalid_1's rmse: 0.346626\tvalid_1's l2: 0.12015\n",
      "[160]\ttraining's rmse: 0.541347\ttraining's l2: 0.293057\tvalid_1's rmse: 0.344388\tvalid_1's l2: 0.118603\n",
      "[180]\ttraining's rmse: 0.530935\ttraining's l2: 0.281892\tvalid_1's rmse: 0.342639\tvalid_1's l2: 0.117401\n",
      "[200]\ttraining's rmse: 0.524403\ttraining's l2: 0.274998\tvalid_1's rmse: 0.340025\tvalid_1's l2: 0.115617\n",
      "[220]\ttraining's rmse: 0.518639\ttraining's l2: 0.268987\tvalid_1's rmse: 0.33844\tvalid_1's l2: 0.114542\n",
      "[240]\ttraining's rmse: 0.512945\ttraining's l2: 0.263113\tvalid_1's rmse: 0.338911\tvalid_1's l2: 0.11486\n",
      "Early stopping, best iteration is:\n",
      "[229]\ttraining's rmse: 0.516393\ttraining's l2: 0.266662\tvalid_1's rmse: 0.337566\tvalid_1's l2: 0.113951\n",
      "*****Prediction for Store: CA_2*****\n",
      "Training until validation scores don't improve for 20 rounds\n",
      "[20]\ttraining's rmse: 0.349689\ttraining's l2: 0.122282\tvalid_1's rmse: 0.384003\tvalid_1's l2: 0.147459\n",
      "[40]\ttraining's rmse: 0.29696\ttraining's l2: 0.0881851\tvalid_1's rmse: 0.355334\tvalid_1's l2: 0.126262\n",
      "[60]\ttraining's rmse: 0.273597\ttraining's l2: 0.0748555\tvalid_1's rmse: 0.347609\tvalid_1's l2: 0.120832\n",
      "[80]\ttraining's rmse: 0.254787\ttraining's l2: 0.0649164\tvalid_1's rmse: 0.332274\tvalid_1's l2: 0.110406\n",
      "[100]\ttraining's rmse: 0.243236\ttraining's l2: 0.0591636\tvalid_1's rmse: 0.327943\tvalid_1's l2: 0.107546\n",
      "[120]\ttraining's rmse: 0.232124\ttraining's l2: 0.0538813\tvalid_1's rmse: 0.323586\tvalid_1's l2: 0.104708\n",
      "[140]\ttraining's rmse: 0.224463\ttraining's l2: 0.0503837\tvalid_1's rmse: 0.318578\tvalid_1's l2: 0.101492\n",
      "[160]\ttraining's rmse: 0.218873\ttraining's l2: 0.0479055\tvalid_1's rmse: 0.313826\tvalid_1's l2: 0.0984868\n",
      "[180]\ttraining's rmse: 0.213212\ttraining's l2: 0.0454593\tvalid_1's rmse: 0.309216\tvalid_1's l2: 0.0956144\n",
      "[200]\ttraining's rmse: 0.208105\ttraining's l2: 0.0433076\tvalid_1's rmse: 0.302806\tvalid_1's l2: 0.0916917\n",
      "[220]\ttraining's rmse: 0.204029\ttraining's l2: 0.0416278\tvalid_1's rmse: 0.301685\tvalid_1's l2: 0.0910136\n",
      "[240]\ttraining's rmse: 0.199996\ttraining's l2: 0.0399982\tvalid_1's rmse: 0.296649\tvalid_1's l2: 0.0880008\n",
      "[260]\ttraining's rmse: 0.197729\ttraining's l2: 0.0390966\tvalid_1's rmse: 0.294186\tvalid_1's l2: 0.0865455\n",
      "[280]\ttraining's rmse: 0.195114\ttraining's l2: 0.0380695\tvalid_1's rmse: 0.292067\tvalid_1's l2: 0.0853034\n",
      "[300]\ttraining's rmse: 0.192935\ttraining's l2: 0.0372238\tvalid_1's rmse: 0.289782\tvalid_1's l2: 0.0839735\n",
      "[320]\ttraining's rmse: 0.190047\ttraining's l2: 0.0361177\tvalid_1's rmse: 0.287871\tvalid_1's l2: 0.0828699\n",
      "Early stopping, best iteration is:\n",
      "[318]\ttraining's rmse: 0.190403\ttraining's l2: 0.0362534\tvalid_1's rmse: 0.287803\tvalid_1's l2: 0.0828308\n",
      "*****Prediction for Store: CA_3*****\n",
      "Training until validation scores don't improve for 20 rounds\n",
      "[20]\ttraining's rmse: 1.13257\ttraining's l2: 1.28272\tvalid_1's rmse: 0.541663\tvalid_1's l2: 0.293399\n",
      "[40]\ttraining's rmse: 1.01673\ttraining's l2: 1.03374\tvalid_1's rmse: 0.448972\tvalid_1's l2: 0.201576\n",
      "[60]\ttraining's rmse: 0.97125\ttraining's l2: 0.943326\tvalid_1's rmse: 0.42967\tvalid_1's l2: 0.184616\n",
      "[80]\ttraining's rmse: 0.944063\ttraining's l2: 0.891255\tvalid_1's rmse: 0.415994\tvalid_1's l2: 0.173051\n",
      "[100]\ttraining's rmse: 0.919868\ttraining's l2: 0.846157\tvalid_1's rmse: 0.407755\tvalid_1's l2: 0.166264\n",
      "[120]\ttraining's rmse: 0.901419\ttraining's l2: 0.812556\tvalid_1's rmse: 0.401201\tvalid_1's l2: 0.160962\n",
      "[140]\ttraining's rmse: 0.887153\ttraining's l2: 0.78704\tvalid_1's rmse: 0.400698\tvalid_1's l2: 0.160559\n",
      "[160]\ttraining's rmse: 0.873148\ttraining's l2: 0.762388\tvalid_1's rmse: 0.397052\tvalid_1's l2: 0.15765\n",
      "[180]\ttraining's rmse: 0.863996\ttraining's l2: 0.746489\tvalid_1's rmse: 0.396557\tvalid_1's l2: 0.157257\n",
      "Early stopping, best iteration is:\n",
      "[166]\ttraining's rmse: 0.868877\ttraining's l2: 0.754948\tvalid_1's rmse: 0.394398\tvalid_1's l2: 0.15555\n",
      "*****Prediction for Store: CA_4*****\n",
      "Training until validation scores don't improve for 20 rounds\n",
      "[20]\ttraining's rmse: 0.263842\ttraining's l2: 0.0696127\tvalid_1's rmse: 0.192152\tvalid_1's l2: 0.0369226\n",
      "[40]\ttraining's rmse: 0.229135\ttraining's l2: 0.0525028\tvalid_1's rmse: 0.154169\tvalid_1's l2: 0.0237679\n",
      "[60]\ttraining's rmse: 0.213347\ttraining's l2: 0.0455171\tvalid_1's rmse: 0.140536\tvalid_1's l2: 0.0197503\n",
      "[80]\ttraining's rmse: 0.202821\ttraining's l2: 0.0411363\tvalid_1's rmse: 0.131674\tvalid_1's l2: 0.017338\n",
      "[100]\ttraining's rmse: 0.196078\ttraining's l2: 0.0384466\tvalid_1's rmse: 0.126505\tvalid_1's l2: 0.0160036\n",
      "[120]\ttraining's rmse: 0.189394\ttraining's l2: 0.0358702\tvalid_1's rmse: 0.123037\tvalid_1's l2: 0.0151381\n",
      "[140]\ttraining's rmse: 0.184957\ttraining's l2: 0.0342091\tvalid_1's rmse: 0.120057\tvalid_1's l2: 0.0144137\n",
      "[160]\ttraining's rmse: 0.181362\ttraining's l2: 0.0328923\tvalid_1's rmse: 0.116477\tvalid_1's l2: 0.0135669\n",
      "[180]\ttraining's rmse: 0.178139\ttraining's l2: 0.0317333\tvalid_1's rmse: 0.115293\tvalid_1's l2: 0.0132924\n",
      "[200]\ttraining's rmse: 0.174833\ttraining's l2: 0.0305667\tvalid_1's rmse: 0.114461\tvalid_1's l2: 0.0131013\n",
      "Early stopping, best iteration is:\n",
      "[196]\ttraining's rmse: 0.175562\ttraining's l2: 0.030822\tvalid_1's rmse: 0.114197\tvalid_1's l2: 0.013041\n",
      "*****Prediction for Store: TX_1*****\n",
      "Training until validation scores don't improve for 20 rounds\n",
      "[20]\ttraining's rmse: 0.619749\ttraining's l2: 0.384088\tvalid_1's rmse: 0.316911\tvalid_1's l2: 0.100432\n",
      "[40]\ttraining's rmse: 0.566167\ttraining's l2: 0.320545\tvalid_1's rmse: 0.270929\tvalid_1's l2: 0.0734025\n",
      "[60]\ttraining's rmse: 0.540244\ttraining's l2: 0.291863\tvalid_1's rmse: 0.254167\tvalid_1's l2: 0.0646009\n",
      "[80]\ttraining's rmse: 0.523381\ttraining's l2: 0.273928\tvalid_1's rmse: 0.244601\tvalid_1's l2: 0.0598295\n",
      "[100]\ttraining's rmse: 0.510181\ttraining's l2: 0.260284\tvalid_1's rmse: 0.244356\tvalid_1's l2: 0.0597097\n",
      "[120]\ttraining's rmse: 0.500069\ttraining's l2: 0.250069\tvalid_1's rmse: 0.236437\tvalid_1's l2: 0.0559024\n",
      "[140]\ttraining's rmse: 0.491575\ttraining's l2: 0.241646\tvalid_1's rmse: 0.234921\tvalid_1's l2: 0.0551877\n",
      "[160]\ttraining's rmse: 0.484838\ttraining's l2: 0.235068\tvalid_1's rmse: 0.233252\tvalid_1's l2: 0.0544063\n",
      "Early stopping, best iteration is:\n",
      "[150]\ttraining's rmse: 0.487936\ttraining's l2: 0.238082\tvalid_1's rmse: 0.231585\tvalid_1's l2: 0.0536317\n",
      "*****Prediction for Store: TX_2*****\n",
      "Training until validation scores don't improve for 20 rounds\n",
      "[20]\ttraining's rmse: 0.757452\ttraining's l2: 0.573733\tvalid_1's rmse: 0.440546\tvalid_1's l2: 0.19408\n",
      "[40]\ttraining's rmse: 0.675447\ttraining's l2: 0.456229\tvalid_1's rmse: 0.387645\tvalid_1's l2: 0.150268\n",
      "[60]\ttraining's rmse: 0.627253\ttraining's l2: 0.393447\tvalid_1's rmse: 0.35236\tvalid_1's l2: 0.124158\n",
      "[80]\ttraining's rmse: 0.597742\ttraining's l2: 0.357295\tvalid_1's rmse: 0.335841\tvalid_1's l2: 0.112789\n",
      "[100]\ttraining's rmse: 0.575994\ttraining's l2: 0.331769\tvalid_1's rmse: 0.336675\tvalid_1's l2: 0.11335\n",
      "[120]\ttraining's rmse: 0.557179\ttraining's l2: 0.310448\tvalid_1's rmse: 0.327335\tvalid_1's l2: 0.107148\n",
      "[140]\ttraining's rmse: 0.541601\ttraining's l2: 0.293332\tvalid_1's rmse: 0.318235\tvalid_1's l2: 0.101274\n",
      "[160]\ttraining's rmse: 0.530483\ttraining's l2: 0.281413\tvalid_1's rmse: 0.314545\tvalid_1's l2: 0.0989387\n",
      "[180]\ttraining's rmse: 0.519359\ttraining's l2: 0.269734\tvalid_1's rmse: 0.314533\tvalid_1's l2: 0.0989311\n",
      "Early stopping, best iteration is:\n",
      "[177]\ttraining's rmse: 0.521326\ttraining's l2: 0.27178\tvalid_1's rmse: 0.313098\tvalid_1's l2: 0.0980306\n",
      "*****Prediction for Store: TX_3*****\n",
      "Training until validation scores don't improve for 20 rounds\n",
      "[20]\ttraining's rmse: 0.57306\ttraining's l2: 0.328398\tvalid_1's rmse: 0.454537\tvalid_1's l2: 0.206604\n",
      "[40]\ttraining's rmse: 0.511128\ttraining's l2: 0.261252\tvalid_1's rmse: 0.394083\tvalid_1's l2: 0.155302\n",
      "[60]\ttraining's rmse: 0.482901\ttraining's l2: 0.233193\tvalid_1's rmse: 0.37612\tvalid_1's l2: 0.141467\n",
      "[80]\ttraining's rmse: 0.464015\ttraining's l2: 0.215309\tvalid_1's rmse: 0.36561\tvalid_1's l2: 0.13367\n",
      "[100]\ttraining's rmse: 0.452808\ttraining's l2: 0.205035\tvalid_1's rmse: 0.362578\tvalid_1's l2: 0.131463\n",
      "[120]\ttraining's rmse: 0.442043\ttraining's l2: 0.195402\tvalid_1's rmse: 0.358707\tvalid_1's l2: 0.128671\n",
      "[140]\ttraining's rmse: 0.432128\ttraining's l2: 0.186735\tvalid_1's rmse: 0.35227\tvalid_1's l2: 0.124094\n",
      "[160]\ttraining's rmse: 0.424396\ttraining's l2: 0.180112\tvalid_1's rmse: 0.352517\tvalid_1's l2: 0.124268\n",
      "Early stopping, best iteration is:\n",
      "[144]\ttraining's rmse: 0.429672\ttraining's l2: 0.184618\tvalid_1's rmse: 0.351731\tvalid_1's l2: 0.123714\n",
      "*****Prediction for Store: WI_1*****\n",
      "Training until validation scores don't improve for 20 rounds\n",
      "[20]\ttraining's rmse: 0.286147\ttraining's l2: 0.0818801\tvalid_1's rmse: 0.26189\tvalid_1's l2: 0.0685866\n",
      "[40]\ttraining's rmse: 0.241889\ttraining's l2: 0.0585102\tvalid_1's rmse: 0.21981\tvalid_1's l2: 0.0483165\n",
      "[60]\ttraining's rmse: 0.218983\ttraining's l2: 0.0479537\tvalid_1's rmse: 0.202687\tvalid_1's l2: 0.0410819\n",
      "[80]\ttraining's rmse: 0.205007\ttraining's l2: 0.0420278\tvalid_1's rmse: 0.19366\tvalid_1's l2: 0.037504\n",
      "[100]\ttraining's rmse: 0.196024\ttraining's l2: 0.0384254\tvalid_1's rmse: 0.186808\tvalid_1's l2: 0.0348972\n",
      "[120]\ttraining's rmse: 0.189031\ttraining's l2: 0.0357327\tvalid_1's rmse: 0.181736\tvalid_1's l2: 0.033028\n",
      "[140]\ttraining's rmse: 0.183249\ttraining's l2: 0.0335803\tvalid_1's rmse: 0.176921\tvalid_1's l2: 0.0313011\n",
      "[160]\ttraining's rmse: 0.179217\ttraining's l2: 0.0321189\tvalid_1's rmse: 0.175024\tvalid_1's l2: 0.0306335\n",
      "[180]\ttraining's rmse: 0.175379\ttraining's l2: 0.0307579\tvalid_1's rmse: 0.17343\tvalid_1's l2: 0.0300779\n",
      "[200]\ttraining's rmse: 0.171735\ttraining's l2: 0.0294928\tvalid_1's rmse: 0.171939\tvalid_1's l2: 0.0295631\n",
      "[220]\ttraining's rmse: 0.168198\ttraining's l2: 0.0282904\tvalid_1's rmse: 0.170859\tvalid_1's l2: 0.0291928\n",
      "[240]\ttraining's rmse: 0.16541\ttraining's l2: 0.0273604\tvalid_1's rmse: 0.170233\tvalid_1's l2: 0.0289792\n",
      "[260]\ttraining's rmse: 0.162575\ttraining's l2: 0.0264306\tvalid_1's rmse: 0.168893\tvalid_1's l2: 0.028525\n",
      "[280]\ttraining's rmse: 0.160527\ttraining's l2: 0.0257689\tvalid_1's rmse: 0.167737\tvalid_1's l2: 0.0281355\n",
      "[300]\ttraining's rmse: 0.158772\ttraining's l2: 0.0252084\tvalid_1's rmse: 0.167192\tvalid_1's l2: 0.0279532\n",
      "Early stopping, best iteration is:\n",
      "[286]\ttraining's rmse: 0.159896\ttraining's l2: 0.0255667\tvalid_1's rmse: 0.166856\tvalid_1's l2: 0.027841\n",
      "*****Prediction for Store: WI_2*****\n",
      "Training until validation scores don't improve for 20 rounds\n",
      "[20]\ttraining's rmse: 0.502132\ttraining's l2: 0.252137\tvalid_1's rmse: 0.649097\tvalid_1's l2: 0.421327\n",
      "[40]\ttraining's rmse: 0.418175\ttraining's l2: 0.17487\tvalid_1's rmse: 0.573028\tvalid_1's l2: 0.328361\n",
      "[60]\ttraining's rmse: 0.37286\ttraining's l2: 0.139024\tvalid_1's rmse: 0.541458\tvalid_1's l2: 0.293177\n",
      "[80]\ttraining's rmse: 0.347419\ttraining's l2: 0.1207\tvalid_1's rmse: 0.51665\tvalid_1's l2: 0.266928\n",
      "[100]\ttraining's rmse: 0.329311\ttraining's l2: 0.108446\tvalid_1's rmse: 0.507435\tvalid_1's l2: 0.25749\n",
      "[120]\ttraining's rmse: 0.316309\ttraining's l2: 0.100051\tvalid_1's rmse: 0.489996\tvalid_1's l2: 0.240096\n",
      "[140]\ttraining's rmse: 0.304398\ttraining's l2: 0.0926582\tvalid_1's rmse: 0.483186\tvalid_1's l2: 0.233469\n",
      "[160]\ttraining's rmse: 0.295407\ttraining's l2: 0.0872653\tvalid_1's rmse: 0.476298\tvalid_1's l2: 0.22686\n",
      "[180]\ttraining's rmse: 0.287903\ttraining's l2: 0.0828879\tvalid_1's rmse: 0.469758\tvalid_1's l2: 0.220673\n",
      "[200]\ttraining's rmse: 0.280992\ttraining's l2: 0.0789564\tvalid_1's rmse: 0.466105\tvalid_1's l2: 0.217254\n",
      "[220]\ttraining's rmse: 0.274717\ttraining's l2: 0.0754696\tvalid_1's rmse: 0.463726\tvalid_1's l2: 0.215042\n",
      "[240]\ttraining's rmse: 0.269547\ttraining's l2: 0.0726558\tvalid_1's rmse: 0.460098\tvalid_1's l2: 0.211691\n",
      "[260]\ttraining's rmse: 0.265249\ttraining's l2: 0.0703573\tvalid_1's rmse: 0.456269\tvalid_1's l2: 0.208181\n",
      "[280]\ttraining's rmse: 0.261471\ttraining's l2: 0.0683669\tvalid_1's rmse: 0.455021\tvalid_1's l2: 0.207044\n",
      "Early stopping, best iteration is:\n",
      "[276]\ttraining's rmse: 0.26202\ttraining's l2: 0.0686543\tvalid_1's rmse: 0.453776\tvalid_1's l2: 0.205912\n",
      "*****Prediction for Store: WI_3*****\n",
      "Training until validation scores don't improve for 20 rounds\n",
      "[20]\ttraining's rmse: 0.571514\ttraining's l2: 0.326628\tvalid_1's rmse: 0.418151\tvalid_1's l2: 0.17485\n",
      "[40]\ttraining's rmse: 0.500406\ttraining's l2: 0.250407\tvalid_1's rmse: 0.352597\tvalid_1's l2: 0.124325\n",
      "[60]\ttraining's rmse: 0.466487\ttraining's l2: 0.21761\tvalid_1's rmse: 0.325675\tvalid_1's l2: 0.106064\n",
      "[80]\ttraining's rmse: 0.449192\ttraining's l2: 0.201774\tvalid_1's rmse: 0.310483\tvalid_1's l2: 0.0963997\n",
      "[100]\ttraining's rmse: 0.437242\ttraining's l2: 0.191181\tvalid_1's rmse: 0.301155\tvalid_1's l2: 0.0906946\n",
      "[120]\ttraining's rmse: 0.428943\ttraining's l2: 0.183992\tvalid_1's rmse: 0.294519\tvalid_1's l2: 0.0867416\n",
      "[140]\ttraining's rmse: 0.422436\ttraining's l2: 0.178452\tvalid_1's rmse: 0.292423\tvalid_1's l2: 0.0855114\n",
      "[160]\ttraining's rmse: 0.416056\ttraining's l2: 0.173103\tvalid_1's rmse: 0.291448\tvalid_1's l2: 0.0849419\n",
      "[180]\ttraining's rmse: 0.41205\ttraining's l2: 0.169785\tvalid_1's rmse: 0.289489\tvalid_1's l2: 0.0838038\n",
      "Early stopping, best iteration is:\n",
      "[175]\ttraining's rmse: 0.412764\ttraining's l2: 0.170374\tvalid_1's rmse: 0.288838\tvalid_1's l2: 0.0834272\n"
     ]
    }
   ],
   "source": [
    "#Get the store ids\n",
    "stores = sales.store_id.cat.codes.unique().tolist()\n",
    "for store in stores:\n",
    "    df_temp = df[df['store_id']==store]\n",
    "    \n",
    "    #Split the data\n",
    "    X_train, y_train = df_temp[df_temp['d']<1914].drop('sold',axis=1), df_temp[df_temp['d']<1914]['sold']\n",
    "    X_valid, y_valid = df_temp[(df_temp['d']>=1914) & (df['d']<1942)].drop('sold',axis=1), df_temp[(df_temp['d']>=1914) & (df_temp['d']<1942)]['sold']\n",
    "    X_test = df_temp[df_temp['d']>=1942].drop('sold',axis=1)\n",
    "    \n",
    "    #Train and validate\n",
    "    model = LGBMRegressor(\n",
    "        n_estimators=1000,\n",
    "        learning_rate=0.3,\n",
    "        subsample=0.8,\n",
    "        colsample_bytree=0.8,\n",
    "        max_depth=8,\n",
    "        num_leaves=50,\n",
    "        min_child_weight=300\n",
    "    )\n",
    "    print('*****Prediction for Store: {}*****'.format(d_store_id[store]))\n",
    "    model.fit(X_train, y_train, eval_set=[(X_train,y_train),(X_valid,y_valid)],\n",
    "             eval_metric='rmse', verbose=20, early_stopping_rounds=20)\n",
    "    valid_preds[X_valid.index] = model.predict(X_valid)\n",
    "    eval_preds[X_test.index] = model.predict(X_test)\n",
    "    filename = 'model'+str(d_store_id[store])+'.pkl'\n",
    "    # save model\n",
    "    joblib.dump(model, filename)\n",
    "    del model, X_train, y_train, X_valid, y_valid\n",
    "    gc.collect()"
   ]
  },
  {
   "cell_type": "markdown",
   "metadata": {
    "papermill": {
     "duration": 0.065762,
     "end_time": "2022-08-17T00:10:55.625487",
     "exception": false,
     "start_time": "2022-08-17T00:10:55.559725",
     "status": "completed"
    },
    "tags": []
   },
   "source": [
    "**Plotting feature importances**"
   ]
  },
  {
   "cell_type": "code",
   "execution_count": 23,
   "metadata": {
    "execution": {
     "iopub.execute_input": "2022-08-17T00:10:55.769361Z",
     "iopub.status.busy": "2022-08-17T00:10:55.768584Z",
     "iopub.status.idle": "2022-08-17T00:10:57.193406Z",
     "shell.execute_reply": "2022-08-17T00:10:57.192574Z",
     "shell.execute_reply.started": "2022-08-16T23:25:42.196725Z"
    },
    "papermill": {
     "duration": 1.502157,
     "end_time": "2022-08-17T00:10:57.193543",
     "exception": false,
     "start_time": "2022-08-17T00:10:55.691386",
     "status": "completed"
    },
    "tags": []
   },
   "outputs": [
    {
     "data": {
      "image/png": "[encoded data removed]",
      "text/plain": [
       "<Figure size 576x720 with 1 Axes>"
      ]
     },
     "metadata": {
      "needs_background": "light"
     },
     "output_type": "display_data"
    }
   ],
   "source": [
    "feature_importance_df = pd.DataFrame()\n",
    "features = [f for f in df.columns if f != 'sold']\n",
    "for filename in os.listdir('/kaggle/working/'):\n",
    "    if 'model' in filename:\n",
    "        # load model\n",
    "        model = joblib.load(filename)\n",
    "        store_importance_df = pd.DataFrame()\n",
    "        store_importance_df[\"feature\"] = features\n",
    "        store_importance_df[\"importance\"] = model.feature_importances_\n",
    "        store_importance_df[\"store\"] = filename[5:9]\n",
    "        feature_importance_df = pd.concat([feature_importance_df, store_importance_df], axis=0)\n",
    "    \n",
    "def display_importances(feature_importance_df_):\n",
    "    cols = feature_importance_df_[[\"feature\", \"importance\"]].groupby(\"feature\").mean().sort_values(by=\"importance\", ascending=False)[:20].index\n",
    "    best_features = feature_importance_df_.loc[feature_importance_df_.feature.isin(cols)]\n",
    "    plt.figure(figsize=(8, 10))\n",
    "    sns.barplot(x=\"importance\", y=\"feature\", data=best_features.sort_values(by=\"importance\", ascending=False))\n",
    "    plt.title('LightGBM Features (averaged over store predictions)')\n",
    "    plt.tight_layout()\n",
    "    \n",
    "display_importances(feature_importance_df)"
   ]
  },
  {
   "cell_type": "markdown",
   "metadata": {
    "papermill": {
     "duration": 0.067719,
     "end_time": "2022-08-17T00:10:57.329080",
     "exception": false,
     "start_time": "2022-08-17T00:10:57.261361",
     "status": "completed"
    },
    "tags": []
   },
   "source": [
    "**Make the submission**\n",
    "\n",
    "If you remember for EDA, feature engineering and training I had melted the provided data from wide format to long format. Now, I have the predictions in long format but the format to be evaluated for the competition is in long format. Therefore, I'll convert it into wide format using `pivot` function in pandas. Below is an image explaining the pivot function.\n",
    "<img src='https://pandas.pydata.org/pandas-docs/version/0.25.3/_images/reshaping_pivot.png' style=\"width:500px;height:300px;\">"
   ]
  },
  {
   "cell_type": "code",
   "execution_count": 24,
   "metadata": {
    "execution": {
     "iopub.execute_input": "2022-08-17T00:10:57.490215Z",
     "iopub.status.busy": "2022-08-17T00:10:57.489225Z",
     "iopub.status.idle": "2022-08-17T00:11:07.288130Z",
     "shell.execute_reply": "2022-08-17T00:11:07.287445Z",
     "shell.execute_reply.started": "2022-08-16T23:25:43.615651Z"
    },
    "papermill": {
     "duration": 9.892144,
     "end_time": "2022-08-17T00:11:07.288303",
     "exception": false,
     "start_time": "2022-08-17T00:10:57.396159",
     "status": "completed"
    },
    "tags": []
   },
   "outputs": [],
   "source": [
    "#Set actual equal to false if you want to top in the public leaderboard :P\n",
    "actual = False\n",
    "if actual == False:\n",
    "    #Get the validation results(We already have them as less than one month left for competition to end)\n",
    "    validation = sales[['id']+['d_' + str(i) for i in range(1914,1942)]]\n",
    "    validation['id']=pd.read_csv('/kaggle/input/m5-forecasting-accuracy/sales_train_validation.csv').id\n",
    "    validation.columns=['id'] + ['F' + str(i + 1) for i in range(28)]\n",
    "else:\n",
    "    #Get the actual validation results\n",
    "    valid['sold'] = valid_preds\n",
    "    validation = valid[['id','d','sold']]\n",
    "    validation = pd.pivot(validation, index='id', columns='d', values='sold').reset_index()\n",
    "    validation.columns=['id'] + ['F' + str(i + 1) for i in range(28)]\n",
    "    validation.id = validation.id.map(d_id).str.replace('evaluation','validation')\n",
    "\n",
    "#Get the evaluation results\n",
    "test['sold'] = eval_preds\n",
    "evaluation = test[['id','d','sold']]\n",
    "evaluation = pd.pivot(evaluation, index='id', columns='d', values='sold').reset_index()\n",
    "evaluation.columns=['id'] + ['F' + str(i + 1) for i in range(28)]\n",
    "#Remap the category id to their respective categories\n",
    "evaluation.id = evaluation.id.map(d_id)\n",
    "\n",
    "#Prepare the submission\n",
    "submit = pd.concat([validation,evaluation]).reset_index(drop=True)\n",
    "submit.to_csv('submission.csv',index=False)"
   ]
  },
  {
   "cell_type": "code",
   "execution_count": null,
   "metadata": {
    "papermill": {
     "duration": 0.068472,
     "end_time": "2022-08-17T00:11:07.424303",
     "exception": false,
     "start_time": "2022-08-17T00:11:07.355831",
     "status": "completed"
    },
    "tags": []
   },
   "outputs": [],
   "source": []
  }
 ],
 "metadata": {
  "kernelspec": {
   "display_name": "Python 3",
   "language": "python",
   "name": "python3"
  },
  "language_info": {
   "codemirror_mode": {
    "name": "ipython",
    "version": 3
   },
   "file_extension": ".py",
   "mimetype": "text/x-python",
   "name": "python",
   "nbconvert_exporter": "python",
   "pygments_lexer": "ipython3",
   "version": "3.7.6"
  },
  "papermill": {
   "duration": 2311.653443,
   "end_time": "2022-08-17T00:11:07.804187",
   "environment_variables": {},
   "exception": null,
   "input_path": "__notebook__.ipynb",
   "output_path": "__notebook__.ipynb",
   "parameters": {},
   "start_time": "2022-08-16T23:32:36.150744",
   "version": "2.1.0"
  }
 },
 "nbformat": 4,
 "nbformat_minor": 4
}
